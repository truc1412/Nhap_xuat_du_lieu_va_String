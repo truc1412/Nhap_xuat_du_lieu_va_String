{
 "cells": [
  {
   "cell_type": "code",
   "execution_count": 2,
   "id": "111adadd",
   "metadata": {},
   "outputs": [
    {
     "name": "stdout",
     "output_type": "stream",
     "text": [
      "Nhập số tiền USD: 3\n",
      "Nhập tỉ giá VND: 23000\n",
      "69000\n"
     ]
    }
   ],
   "source": [
    "a=int(input(\"Nhập số tiền USD: \"))\n",
    "b=int(input(\"Nhập tỉ giá VND: \"))\n",
    "t=a*b\n",
    "print(t)"
   ]
  }
 ],
 "metadata": {
  "kernelspec": {
   "display_name": "Python 3 (ipykernel)",
   "language": "python",
   "name": "python3"
  },
  "language_info": {
   "codemirror_mode": {
    "name": "ipython",
    "version": 3
   },
   "file_extension": ".py",
   "mimetype": "text/x-python",
   "name": "python",
   "nbconvert_exporter": "python",
   "pygments_lexer": "ipython3",
   "version": "3.9.13"
  }
 },
 "nbformat": 4,
 "nbformat_minor": 5
}
